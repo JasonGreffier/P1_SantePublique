{
 "cells": [
  {
   "cell_type": "markdown",
   "id": "612cd5e6-b99b-41f7-92d8-c9ec735b6f84",
   "metadata": {},
   "source": [
    "## Nettoyage de données\n",
    "    \n",
    "    1) Charger les données depuis le fichier CSV\n",
    "    \n",
    "    2) Lister les données pertinentes pour notre application\n",
    "    \n",
    "    3) Filtrer les données\n",
    "    \n",
    "    4) Nettoyer les données\n",
    "    \n",
    "\n"
   ]
  },
  {
   "cell_type": "code",
   "execution_count": 1,
   "id": "17a2a377-243c-41bd-b9d4-9e4280fbbebe",
   "metadata": {},
   "outputs": [],
   "source": [
    "#!pip install plotly"
   ]
  },
  {
   "cell_type": "code",
   "execution_count": 2,
   "id": "5d9c8e8e-1cd5-467e-bb37-ef8b191baad1",
   "metadata": {},
   "outputs": [],
   "source": [
    "import csv\n",
    "import math\n",
    "import numpy as np\n",
    "import pandas as pd\n",
    "import seaborn as sns\n",
    "import missingno as msno\n",
    "import matplotlib.pyplot as plt\n",
    "\n",
    "from IPython.display import Image"
   ]
  },
  {
   "cell_type": "code",
   "execution_count": 3,
   "id": "4ba21539-df69-45b1-817e-faa8e7cb705a",
   "metadata": {},
   "outputs": [],
   "source": [
    "# Option d'affichage\n",
    "pd.set_option(\"display.max_rows\", 2000)\n",
    "pd.set_option(\"display.max_columns\", 2000)"
   ]
  },
  {
   "cell_type": "markdown",
   "id": "63cd2c7b-9032-4954-8d75-4d480cb952ce",
   "metadata": {},
   "source": [
    "### 1) Charger les données depuis le fichier CSV"
   ]
  },
  {
   "cell_type": "code",
   "execution_count": null,
   "id": "8f060785-8008-4bee-992d-838eb7c3aafa",
   "metadata": {},
   "outputs": [],
   "source": [
    "# Chemin du fichier CSV servant à l'analyse données\n",
    "path = \"C:\\Jason\\Formation OCR\\Projet 2\\openfoodfact_dataset.csv\"\n",
    "\n",
    "\n",
    "# Creation du dataset à partir du fichier csv\n",
    "dataset = pd.read_csv(path, delimiter=\"\\t\")\n",
    "print(\"Shape du dataset:\", dataset.shape, \"\\n\")\n",
    "\n",
    "\n",
    "# Liste des colonnes disponibles\n",
    "print(\"Informations disponibles par produit: \", \"\\n\", dataset.columns.tolist())\n"
   ]
  },
  {
   "cell_type": "code",
   "execution_count": null,
   "id": "7a56f6b6-7262-44b0-a93e-e7a72245fc20",
   "metadata": {},
   "outputs": [],
   "source": [
    "# Affichage des premières lignes du fichier CSV\n",
    "dataset.head(10)\n",
    "print(\"Format du dataset :\", dataset.shape, f\", soit {dataset.shape[0]} lignes et {dataset.shape[1]} colonnes.\")\n",
    "\n"
   ]
  },
  {
   "cell_type": "code",
   "execution_count": null,
   "id": "ea22456e-4016-4cb0-b1fc-8ee988fd92d0",
   "metadata": {},
   "outputs": [],
   "source": [
    "# Affichage des valeur manquantes\n",
    "#msno.bar(dataset)"
   ]
  },
  {
   "cell_type": "code",
   "execution_count": null,
   "id": "38e1d120-a1be-4fb3-a72e-c3031618684c",
   "metadata": {},
   "outputs": [],
   "source": [
    "# on affiche le nombre de produit par pays\n",
    "df_countries = dataset[\"countries_en\"].value_counts()\n",
    "df_countries = df_countries.where(df_countries>1).dropna()\n",
    "\n",
    "# Création  diagramme des pays les plus représenté\n",
    "plt.figure(figsize=(10,5))\n",
    "plt.bar(df_countries.index[:10], df_countries.tolist()[:10])\n",
    "plt.xlabel('Pays')\n",
    "plt.ylabel('Fréquence')\n",
    "plt.title('Diagramme des 10 pays les plus présents dans le dataset')\n",
    "plt.xticks(rotation=90)\n",
    "plt.show()\n",
    "\n",
    "# On va chercher les produits que nous retrouvons en france à l'aide de la variable : countries_en\n",
    "dataset_france = dataset[dataset[\"countries_en\"] == \"France\"]\n",
    "print(f\"La France est le pays le plus représenté avec {dataset_france.shape[0]} produits enregistrés.\")\n",
    "print(f\"État des données pour la  France:{dataset_france.shape}.\")\n",
    "print(f\"Les données sont passées de : {dataset.shape} à {dataset_france.shape}.\")\n",
    "print(f\"Soit une suppression de : {dataset.shape[0] - dataset_france.shape[0]}.\" )"
   ]
  },
  {
   "cell_type": "markdown",
   "id": "e5fa3f2a-abc0-41b7-9acf-eceaf353a4b7",
   "metadata": {},
   "source": [
    "### 2) Lister les données pertinentes pour notre application\n",
    "     1) Nous prendrons le régime cétogène comme exemple\n",
    "     2) La variable misc représente les données diverses utiles à notre application\n",
    "     3) La variable keto représente les variables utiles pour le régime cétogène"
   ]
  },
  {
   "cell_type": "code",
   "execution_count": null,
   "id": "bbed30f1-b145-4335-8926-80dbad8f32bf",
   "metadata": {},
   "outputs": [],
   "source": [
    "columns_total = dataset.columns.tolist()\n",
    "\n",
    "# misc correspond aux diverses variable qui pourront nous être utiles. \n",
    "misc = ['code', 'product_name', 'image_url', 'nutriscore_score', 'nutriscore_grade', 'energy-kcal_100g']\n",
    "keto = ['fat_100g', 'saturated-fat_100g', 'monounsaturated-fat_100g',\n",
    "        'polyunsaturated-fat_100g','omega-3-fat_100g', 'omega-6-fat_100g', 'omega-9-fat_100g', 'trans-fat_100g', 'cholesterol_100g', 'carbohydrates_100g',\n",
    "        'sugars_100g', 'fiber_100g', 'proteins_100g', 'sodium_100g']\n",
    "\n",
    "columns = list(dict.fromkeys(misc + keto))\n",
    "print(\"Nombre de colonnes conservées:\", len(columns), \"\\n\")\n",
    "print(\"Liste des colonnes conservées:\", \"\\n\", columns, \"\\n\")\n",
    "\n",
    "\n"
   ]
  },
  {
   "cell_type": "code",
   "execution_count": null,
   "id": "21655610-0409-46ac-a48f-e623a52cad17",
   "metadata": {},
   "outputs": [],
   "source": [
    "#sns.heatmap(df_keto.loc[:, ~df_keto.columns.isin(['product_name', 'image_url','code', 'nutriscore_grade', 'total_per_100g'])].dropna().corr(), annot=True)"
   ]
  },
  {
   "cell_type": "markdown",
   "id": "884a6ea9",
   "metadata": {},
   "source": [
    "### 3) Filtrer les données"
   ]
  },
  {
   "cell_type": "code",
   "execution_count": null,
   "id": "358b3859",
   "metadata": {},
   "outputs": [],
   "source": [
    "print(\"Format du dataset avant filtration des colonnes:\", dataset_france.shape, \"\\n\")\n",
    "\n",
    "# Remplissage des valeurs Nan par 0. Hypothèse : Si il y a des valeurs présente dans certaines variables \"_100g\" pour un produit et que les autres variables de ce même\n",
    "# produit sont Nan alors les autres variables pourront être remplis par 0.\n",
    "# Ensuite, si la somme des variables _100g excepté celle d'energie pour 100g sont égales à 0 alors on supprimera les données\n",
    "df_keto = dataset_france[columns].copy()\n",
    "\n",
    "print(\"Format du dataset après filtration des colonnes et des lignes où les valeurs nutritionnelles n'étaient pas répertoriées:\", df_keto.shape, \"\\n\")"
   ]
  },
  {
   "cell_type": "code",
   "execution_count": null,
   "id": "c02daef2-8ba2-4deb-9369-8c2c6d1bf68e",
   "metadata": {},
   "outputs": [],
   "source": []
  },
  {
   "cell_type": "markdown",
   "id": "f0812811",
   "metadata": {},
   "source": [
    "### 3) Nettoyer les données "
   ]
  },
  {
   "cell_type": "code",
   "execution_count": null,
   "id": "d0cc02d7",
   "metadata": {},
   "outputs": [],
   "source": [
    "# 3.1) Supprimer les lignes vide sans données de valeur nutritionnelles (où la somme des valeurs nutritionnelles par 100g = 0) \n",
    "# 3.2) Mettre à jour le type des données\n",
    "# 3.3) Supprimer les données en double ()\n",
    "# 3.4) Supprimer les valeurs aberrantes (graph pour visualiser les valeurs aberrantes)\n",
    "\n",
    "\n",
    "\n",
    "# 3.1) Supprimer les lignes vide sans données de valeur nutritionnelles (où la somme des valeurs nutritionnelles par 100g = 0) \n",
    "df_keto[keto] = df_keto[keto].fillna(value=0)\n",
    "df_keto[\"total_per_100g\"] = df_keto[keto].sum(axis=1)\n",
    "keto.append(\"total_per_100g\")\n",
    "df_keto[\"total_per_100g\"].value_counts()\n",
    "\n",
    "\n",
    "df_keto = df_keto[df_keto.total_per_100g != 0]\n",
    "\n",
    "df_keto = df_keto.drop(\"total_per_100g\", axis=1)\n",
    "# Affichage des valeurs manquantes par colonne\n",
    "msno.matrix(df_keto)\n",
    "\n",
    "\n"
   ]
  },
  {
   "cell_type": "code",
   "execution_count": null,
   "id": "52338325-4cea-42a1-ae3a-3b404800bd75",
   "metadata": {},
   "outputs": [],
   "source": [
    "# 3.2) Mettre à jour le type des données\n",
    "dtype = {\n",
    "    \"code\" : \"string\",\n",
    "    \"product_name\" : \"string\",\n",
    "    \"image_url\" : \"string\",\n",
    "    \"nutriscore_grade\" : \"string\"}\n",
    "print(\"***  Format du dataset *** :\", df_keto.shape)\n",
    "df_keto_type = df_keto.astype(dtype)\n",
    "print(\"***  Format du dataset *** :\", df_keto_type.shape)\n",
    "df_keto_type.info()"
   ]
  },
  {
   "cell_type": "markdown",
   "id": "8b58acf3-5068-4d90-a475-30151a408d90",
   "metadata": {},
   "source": [
    "### 3.2) Supprimer les données en double\n",
    "    - Lister les produits en double selon les codes barres\n",
    "    - Supprimer les code barres en double"
   ]
  },
  {
   "cell_type": "code",
   "execution_count": null,
   "id": "31947bf9-bcde-430a-8147-a28f6fc0a8c8",
   "metadata": {},
   "outputs": [],
   "source": [
    "def delete_duplicates(df, subset):\n",
    "    df_cleaned = df.drop_duplicates(subset=subset, keep=\"first\")\n",
    "    code_duplicate = df[\"code\"].value_counts().index.tolist()\n",
    "    print(\"code_duplicate:\", code_duplicate[:10])\n",
    "    index = 1\n",
    "    print(\"image_url :\", df[\"image_url\"][df[\"code\"] == code_duplicate[index]])\n",
    "    display(df[df[\"code\"] == code_duplicate[1]])\n",
    "    display(Image(df[\"image_url\"][df[\"code\"] == code_duplicate[index]].tolist()[0], width=400, height=400))\n",
    "    if df.shape[0] - df_cleaned.shape[0] > 0:\n",
    "        print(f\"{df.shape[0] - df_cleaned.shape[0]} doublons ont été supprimés\")\n",
    "    else:\n",
    "        print(\"Aucun doublons dans le dataset\")\n",
    "    return df_cleaned, df.duplicated(subset=subset)\n",
    "\n",
    "df_keto_cleaned, df_duplicates = delete_duplicates(df_keto_type, \"code\")\n",
    "\n",
    "print(\"df_keto_cleaned shape : \", df_keto_cleaned.shape)\n",
    "df_duplicates.head()\n",
    "#_=msno.matrix(df_keto_type)\n"
   ]
  },
  {
   "cell_type": "code",
   "execution_count": null,
   "id": "c9f5171d-a263-4fd8-ac3c-e67977ea082d",
   "metadata": {},
   "outputs": [],
   "source": [
    "\n",
    "missing_values_sum = df_keto_cleaned.isnull().sum().sort_values()\n",
    "taux_completion_variable = 100 - df_keto_cleaned.isnull().mean().sort_values()*100\n",
    "\n",
    "df_completion = pd.DataFrame({\"Variable\" : taux_completion_variable.index.tolist(), \"Taux de completion (%)\" : np.round(taux_completion_variable.tolist(), 2) })\n",
    "print(\"Le tableau ci-dessous présente les taux de complétions en fonction des variables pour le régime Cétogène\")\n",
    "df_completion\n"
   ]
  },
  {
   "cell_type": "code",
   "execution_count": null,
   "id": "57e9a523-6360-4491-8dca-a718c1eed829",
   "metadata": {},
   "outputs": [],
   "source": []
  },
  {
   "cell_type": "markdown",
   "id": "23126c29-f0ed-4c8f-ac38-f72b9694e797",
   "metadata": {},
   "source": [
    "Remarque : \n",
    "1) La variable nutriscore est complète à seulement 44.42%, nous viendrons la compléter lors de la phase exploratoire.\n",
    "2) Les variables product_name et image_url ne sont pas à 100% mais elles ont seulement un rôle descriptifs dans notre étude.\n"
   ]
  },
  {
   "cell_type": "code",
   "execution_count": null,
   "id": "e8e3a4a8-55c4-4f6e-aff0-ffb1189f735d",
   "metadata": {},
   "outputs": [],
   "source": [
    "product_name_counts = df_keto_cleaned[\"product_name\"].value_counts()\n",
    "y = product_name_counts\n",
    "product_name = pd.DataFrame({\"product_name\" : product_name_counts.index.tolist(), \"Fréquence\" : product_name_counts.tolist()})\n",
    "product_name\n",
    "\n",
    "\n",
    "plt.figure(figsize=[14, 7])\n",
    "col_map = plt.get_cmap('tab20')\n",
    "\n",
    "# Creating a bar chart from the DataFrame df\n",
    "pl = plt.bar(product_name[\"product_name\"][:30], product_name[\"Fréquence\"][:30])\n",
    "\n",
    "for bar in pl:\n",
    "    plt.annotate(bar.get_height(), \n",
    "                 xy=(bar.get_x(), bar.get_height()), \n",
    "                     fontsize=10)\n",
    "plt.xticks(rotation=90)\n",
    "plt.show()"
   ]
  },
  {
   "cell_type": "markdown",
   "id": "dd4b038b-2de6-4d77-b1a5-464379deed65",
   "metadata": {},
   "source": [
    "### 3.3) Suppresion des valeurs aberrantes\n",
    " - Utilisation de diagramme à moustache etc\n",
    " - Valeur supérieur à 100g pour les valeur nutritionnelle 100g etc\n",
    " - afficher la description des valeurs min/max\n",
    " - Valeur nutriscore : Les résultats du calcul donnent une valeur comprise entre –15 et +40. La couleur verte correspondant à une valeur comprise entre –15 et –2, le vert clair de –1 à +3, le jaune de +4 à +11, l'orange de +12 à +16 et le rouge de +17 à +40\n",
    " "
   ]
  },
  {
   "cell_type": "code",
   "execution_count": null,
   "id": "f0a27eab",
   "metadata": {},
   "outputs": [],
   "source": [
    "print(\"Le tableau ci-dessous présente les statistiques pour chaque variable du régime cétogène\")\n",
    "df_keto_cleaned.describe(percentiles=[]).round()"
   ]
  },
  {
   "cell_type": "markdown",
   "id": "a7751dcc-3a07-4790-848d-c830f24e28df",
   "metadata": {},
   "source": [
    "### Remarque:\n",
    "    1) Les valeurs du nutriscore sont comprise entre -15 et 40, ce qui démontre qu'il n'y a pas de valeurs aberrantes\n",
    "    2) Certaines variables nutritionnelles affichent un max supérieur à 100g pour une valeur nutritionnelle par 100g, ce qui est une aberration. \n",
    "        Exemple :  fat_100g affiche un max de 2900g par produit de 100g.\n",
    "    3) L'énergie par 100g en kcal ne peut excéder 900kcal.\n",
    "\n",
    "Il faut donc procéder à un nettoyage de ces valeurs aberrante"
   ]
  },
  {
   "cell_type": "code",
   "execution_count": null,
   "id": "4ca396d8-1de5-409f-95d7-ad30ee3c051f",
   "metadata": {},
   "outputs": [],
   "source": [
    "#remove = [\"nutriscore_score\", \"energy-kcal_100g\"]\n",
    "valeur_nutri = [x for x in df_keto_cleaned.columns.tolist() if x not in misc]\n",
    "\n",
    "print(\"Diagramme à moustache représentant la distribution des valeurs pour chaque variable\", \"\\n\")\n",
    "# Création des boîtes à moustache pour détecter les anomalies des variables quantitatives\n",
    "for var in df_keto_cleaned.columns:\n",
    "    if df_keto_cleaned[var].dtypes == 'float64':\n",
    "        sns.boxplot(x=var, data=df_keto_cleaned)\n",
    "        plt.title(var)\n",
    "        plt.show()\n"
   ]
  },
  {
   "cell_type": "markdown",
   "id": "0082234c-e430-4cce-b9ee-749b4a28161c",
   "metadata": {},
   "source": [
    "Le diagramme confirme les valeurs aberrantes présentent dans le tableau descriptif sur les variables :\n",
    "energy-kcal_100g, fat_100g, saturated-fat_100g, omega-3-fat_100g, omega-9-fat_100g, trans-fat_100g, carbohydrates_100g, sugars_100g, proteins_100g, sodium_100g\n"
   ]
  },
  {
   "cell_type": "code",
   "execution_count": null,
   "id": "6b0b123b-12a0-4b40-8dc0-1213b2edfbc9",
   "metadata": {},
   "outputs": [],
   "source": [
    "def remove_aberant(df, variable,minimum, maximum):\n",
    "\n",
    "    data_cleaned = df.copy()\n",
    "    \n",
    "    for name in variable:\n",
    "        if name in data_cleaned.columns.tolist():\n",
    "            data_cleaned = data_cleaned.query(f'`{name}` <= {maximum}')\n",
    "            data_cleaned = data_cleaned.query(f'`{name}`>= {minimum}')\n",
    "            \n",
    "    return data_cleaned\n",
    "\n",
    "df_keto_good = remove_aberant(df_keto_cleaned, valeur_nutri, 0, 100)\n",
    "df_keto_good = remove_aberant(df_keto_good, [\"energy-kcal_100g\"], 0, 900)\n",
    "print(\"Aperçu des statistiques des variables après nettoyage des données aberrantes\")\n",
    "print(f\"Il y a eu suppression de {df_keto_cleaned.shape[0] - df_keto_good.shape[0]} lignes dans le dataset.\")\n",
    "df_keto_good.describe()"
   ]
  },
  {
   "cell_type": "code",
   "execution_count": null,
   "id": "0e3ba60f-415f-45cd-a331-9d6ddd82e1ef",
   "metadata": {},
   "outputs": [],
   "source": [
    "print(\"Aperçu des diagrammes en moustache après nettoyage des données aberrantes\")\n",
    "for var in df_keto_good.columns:\n",
    "    if df_keto_good[var].dtypes == 'float64':\n",
    "        sns.boxplot(x=var, data=df_keto_good)\n",
    "        plt.title(var)\n",
    "        plt.show()\n"
   ]
  },
  {
   "cell_type": "markdown",
   "id": "540df104-f120-41f6-a783-b10dd4c150ce",
   "metadata": {},
   "source": [
    "Notre nettoyage des données est maintenant terminée, la variable nutriscore comporte encore des Nan mais nous tâcherons de combler ces valeurs pendant l'analyse explortatoire.\n",
    "Voici l'état des données après le nettoyage :\n"
   ]
  },
  {
   "cell_type": "code",
   "execution_count": null,
   "id": "e516999a-6b05-4ad2-a915-b3bed637dca0",
   "metadata": {},
   "outputs": [],
   "source": [
    "print(f\" Dimension du dataset initial : {dataset.shape}\")\n",
    "print(f\" Dimension du dataset final : {df_keto_good.shape}\")\n",
    "df_keto_good.head()"
   ]
  },
  {
   "cell_type": "code",
   "execution_count": null,
   "id": "e12677de-c1d1-40c1-b7bc-8de153b9be77",
   "metadata": {},
   "outputs": [],
   "source": [
    "msno.matrix(df_keto_good)"
   ]
  },
  {
   "cell_type": "markdown",
   "id": "00834bdc-e2f4-4823-8b6a-977a9ed80b0d",
   "metadata": {},
   "source": [
    "Exportation des données nettoyées en fichier csv"
   ]
  },
  {
   "cell_type": "code",
   "execution_count": null,
   "id": "e3014f59-6468-487e-86f9-220431816c95",
   "metadata": {},
   "outputs": [],
   "source": [
    "df_keto_good.to_csv(\"C:\\Jason\\Formation OCR\\Projet 2\\openfoodfact_dataset_clean.csv\")"
   ]
  },
  {
   "cell_type": "code",
   "execution_count": null,
   "id": "24db8d68-76e1-4ff8-9d63-239010fa5dcc",
   "metadata": {},
   "outputs": [],
   "source": []
  }
 ],
 "metadata": {
  "kernelspec": {
   "display_name": "Python 3",
   "language": "python",
   "name": "python3"
  },
  "language_info": {
   "codemirror_mode": {
    "name": "ipython",
    "version": 3
   },
   "file_extension": ".py",
   "mimetype": "text/x-python",
   "name": "python",
   "nbconvert_exporter": "python",
   "pygments_lexer": "ipython3",
   "version": "3.8.8"
  }
 },
 "nbformat": 4,
 "nbformat_minor": 5
}
